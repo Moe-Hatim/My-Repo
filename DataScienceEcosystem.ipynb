{
 "cells": [
  {
   "cell_type": "markdown",
   "id": "04ffd668-1397-41c3-8916-b4926adede87",
   "metadata": {},
   "source": [
    "# Data Science Tools and Ecosystem"
   ]
  },
  {
   "cell_type": "markdown",
   "id": "973ec0a4-0920-46b8-94a1-1d1d12c31aa0",
   "metadata": {},
   "source": [
    "In this notebook, Data Science Tools and Ecosystem are summarized."
   ]
  },
  {
   "cell_type": "markdown",
   "id": "17dfdbf2-9fdf-4862-8f88-0ca1ac0e3201",
   "metadata": {},
   "source": [
    "**Objectives**\n",
    "+ Popualr languages for data science\n",
    "+ Libraries used by data scientist\n",
    "+ Data science tools\n",
    "+ Arthimetic expressions in Python\n"
   ]
  },
  {
   "cell_type": "markdown",
   "id": "789c651a-c7e1-4318-9258-f1582e57f808",
   "metadata": {},
   "source": [
    "Some of the popular languages that Data Scientists use are:\n",
    "1. Python\n",
    "2. R\n",
    "3. Julia\n",
    "3. Java Script"
   ]
  },
  {
   "cell_type": "markdown",
   "id": "a8e14700-32e2-4430-9b1d-f40b0e2a798e",
   "metadata": {
    "tags": []
   },
   "source": [
    "Some of the commonly used libraries used by Data Scientists include:\n",
    "1. Numpy\n",
    "2. Pandas\n",
    "3. Matplotlib\n",
    "4. Scipy\n",
    "5. Scikit-learn"
   ]
  },
  {
   "cell_type": "markdown",
   "id": "acb09f4f-f7b8-4377-8dab-af3e0521f887",
   "metadata": {},
   "source": [
    "| Data Science Tools |\n",
    "|--------------------|\n",
    "| Jupyter Notebook   |\n",
    "| RStudio            |\n",
    "| Google Colab|"
   ]
  },
  {
   "cell_type": "markdown",
   "id": "db6fae48-59f1-468e-978f-23b50a650c8c",
   "metadata": {},
   "source": [
    "### Below are a few examples of evaluating arithmetic expressions in Python"
   ]
  },
  {
   "cell_type": "code",
   "execution_count": 4,
   "id": "297f8437-c574-4194-8f15-4af31b3f3f73",
   "metadata": {
    "tags": []
   },
   "outputs": [
    {
     "data": {
      "text/plain": [
       "17"
      ]
     },
     "execution_count": 4,
     "metadata": {},
     "output_type": "execute_result"
    }
   ],
   "source": [
    "# This a simple arithmetic expression to mutiply then add integers\n",
    "(3*4)+5"
   ]
  },
  {
   "cell_type": "code",
   "execution_count": 6,
   "id": "43c8199d-2123-4f9a-a593-15cf4efa7dc0",
   "metadata": {
    "tags": []
   },
   "outputs": [
    {
     "name": "stdout",
     "output_type": "stream",
     "text": [
      "3.3333333333333335\n"
     ]
    }
   ],
   "source": [
    "minutes = 200\n",
    "hours = minutes/60\n",
    "print(hours)"
   ]
  },
  {
   "cell_type": "markdown",
   "id": "aa5686d7-c661-4303-879d-b8ec4a816cb3",
   "metadata": {},
   "source": [
    "## Author\n",
    "Mohamed Hatim Fadul Hasssan"
   ]
  },
  {
   "cell_type": "code",
   "execution_count": null,
   "id": "2764ac3e-c384-4ada-8afa-348f79136733",
   "metadata": {},
   "outputs": [],
   "source": []
  }
 ],
 "metadata": {
  "kernelspec": {
   "display_name": "Python",
   "language": "python",
   "name": "conda-env-python-py"
  },
  "language_info": {
   "codemirror_mode": {
    "name": "ipython",
    "version": 3
   },
   "file_extension": ".py",
   "mimetype": "text/x-python",
   "name": "python",
   "nbconvert_exporter": "python",
   "pygments_lexer": "ipython3",
   "version": "3.7.12"
  }
 },
 "nbformat": 4,
 "nbformat_minor": 5
}
